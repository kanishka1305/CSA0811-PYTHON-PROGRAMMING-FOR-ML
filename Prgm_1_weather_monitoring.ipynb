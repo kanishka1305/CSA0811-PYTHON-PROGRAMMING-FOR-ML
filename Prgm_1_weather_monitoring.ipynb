{
  "nbformat": 4,
  "nbformat_minor": 0,
  "metadata": {
    "colab": {
      "provenance": [],
      "authorship_tag": "ABX9TyPkYJytGX2xF3IoRRfmIQOp",
      "include_colab_link": true
    },
    "kernelspec": {
      "name": "python3",
      "display_name": "Python 3"
    },
    "language_info": {
      "name": "python"
    }
  },
  "cells": [
    {
      "cell_type": "markdown",
      "metadata": {
        "id": "view-in-github",
        "colab_type": "text"
      },
      "source": [
        "<a href=\"https://colab.research.google.com/github/kanishka1305/CSA0811-PYTHON-PROGRAMMING-FOR-ML/blob/main/Prgm_1_weather_monitoring.ipynb\" target=\"_parent\"><img src=\"https://colab.research.google.com/assets/colab-badge.svg\" alt=\"Open In Colab\"/></a>"
      ]
    },
    {
      "cell_type": "code",
      "execution_count": 6,
      "metadata": {
        "colab": {
          "base_uri": "https://localhost:8080/"
        },
        "id": "AwKr9J-GuvcH",
        "outputId": "5f823fcf-e573-4b3e-a925-f5c76e1c62b7"
      },
      "outputs": [
        {
          "output_type": "stream",
          "name": "stdout",
          "text": [
            "Enter the city name or coordinates (lat,lon): madurai\n",
            "Temperature: 29.01°C\n",
            "Weather Conditions: haze\n",
            "Humidity: 70%\n",
            "Wind Speed: 1.54 m/s\n"
          ]
        }
      ],
      "source": [
        "import requests\n",
        "# Constants for the weather API\n",
        "API_URL = \"http://api.openweathermap.org/data/2.5/weather\"\n",
        "API_KEY = \"f1f1c76d383977af5d8055304e4402a8\"\n",
        "def fetch_weather_data(location):\n",
        "    # Build the request URL\n",
        "    request_url = f\"{API_URL}?q={location}&APPID={API_KEY}&units=metric\"\n",
        "\n",
        "    # Send the request to the API\n",
        "    response = requests.get(request_url)\n",
        "\n",
        "    # Parse the JSON response\n",
        "    weather_data = response.json()\n",
        "\n",
        "    if response.status_code != 200:\n",
        "        return None, weather_data.get(\"message\", \"Failed to fetch weather data\")\n",
        "\n",
        "    # Extract relevant weather data\n",
        "    temperature = weather_data[\"main\"][\"temp\"]\n",
        "    weather_conditions = weather_data[\"weather\"][0][\"description\"]\n",
        "    humidity = weather_data[\"main\"][\"humidity\"]\n",
        "    wind_speed = weather_data[\"wind\"][\"speed\"]\n",
        "\n",
        "    return {\n",
        "        \"temperature\": temperature,\n",
        "        \"weather_conditions\": weather_conditions,\n",
        "        \"humidity\": humidity,\n",
        "        \"wind_speed\": wind_speed\n",
        "    }, None\n",
        "\n",
        "def display_weather_data(weather_data):\n",
        "    print(f\"Temperature: {weather_data['temperature']}°C\")\n",
        "    print(f\"Weather Conditions: {weather_data['weather_conditions']}\")\n",
        "    print(f\"Humidity: {weather_data['humidity']}%\")\n",
        "    print(f\"Wind Speed: {weather_data['wind_speed']} m/s\")\n",
        "def main():\n",
        "    # Get the location input from the user\n",
        "    location = input(\"Enter the city name or coordinates (lat,lon): \")\n",
        "\n",
        "    # Fetch the weather data for the input location\n",
        "    weather_data, error = fetch_weather_data(location)\n",
        "\n",
        "    if error:\n",
        "        print(f\"Error: {error}\")\n",
        "    else:\n",
        "        # Display the fetched weather data\n",
        "        display_weather_data(weather_data)\n",
        "\n",
        "if __name__ == \"__main__\":\n",
        "    main()"
      ]
    }
  ]
}