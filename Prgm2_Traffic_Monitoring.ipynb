{
  "nbformat": 4,
  "nbformat_minor": 0,
  "metadata": {
    "colab": {
      "provenance": [],
      "authorship_tag": "ABX9TyND2kkygPAUYgJYfDQtU1p8",
      "include_colab_link": true
    },
    "kernelspec": {
      "name": "python3",
      "display_name": "Python 3"
    },
    "language_info": {
      "name": "python"
    }
  },
  "cells": [
    {
      "cell_type": "markdown",
      "metadata": {
        "id": "view-in-github",
        "colab_type": "text"
      },
      "source": [
        "<a href=\"https://colab.research.google.com/github/kanishka1305/CSA0811-PYTHON-PROGRAMMING-FOR-ML/blob/main/Prgm2_Traffic_Monitoring.ipynb\" target=\"_parent\"><img src=\"https://colab.research.google.com/assets/colab-badge.svg\" alt=\"Open In Colab\"/></a>"
      ]
    },
    {
      "cell_type": "code",
      "execution_count": null,
      "metadata": {
        "id": "99DXkWZRt1aE"
      },
      "outputs": [],
      "source": [
        "\n",
        "import requests\n",
        "\n",
        "# Replace with your OpenRouteService API key\n",
        "ORS_API_KEY = '5b3ce3597851110001cf62489e3ac329056d422facf1022073066327'\n",
        "\n",
        "def get_geocode(location):\n",
        "    geocode_url = f\"https://api.openrouteservice.org/geocode/search?api_key={ORS_API_KEY}&text={location}\"\n",
        "    response = requests.get(geocode_url)\n",
        "\n",
        "    if response.status_code != 200:\n",
        "        raise Exception(f\"Error fetching geocode: {response.status_code}\")\n",
        "\n",
        "    data = response.json()\n",
        "    if 'features' not in data or len(data['features']) == 0:\n",
        "        raise Exception(\"No geocoding results found.\")\n",
        "\n",
        "    coords = data['features'][0]['geometry']['coordinates']\n",
        "    return coords\n",
        "\n",
        "def get_traffic_data(start, end):\n",
        "    try:\n",
        "        start_coords = get_geocode(start)\n",
        "        end_coords = get_geocode(end)\n",
        "    except Exception as e:\n",
        "        return {'error': str(e)}\n",
        "\n",
        "    routing_url = f\"https://api.openrouteservice.org/v2/directions/driving-car\"\n",
        "    headers = {\n",
        "        'Authorization': ORS_API_KEY,\n",
        "        'Content-Type': 'application/json'\n",
        "    }\n",
        "    body = {\n",
        "        \"coordinates\": [start_coords, end_coords]\n",
        "    }\n",
        "\n",
        "    response = requests.post(routing_url, json=body, headers=headers)\n",
        "\n",
        "    if response.status_code != 200:\n",
        "        return {'error': f\"Error fetching route: {response.status_code}\"}\n",
        "\n",
        "    route_data = response.json()\n",
        "\n",
        "    if 'routes' not in route_data:\n",
        "        return {'error': 'No routes found'}\n",
        "\n",
        "    route = route_data['routes'][0]\n",
        "    summary = route['summary']\n",
        "\n",
        "    traffic_info = {\n",
        "        'start_address': start,\n",
        "        'end_address': end,\n",
        "        'distance': summary['distance'] / 1000,  # convert to km\n",
        "        'duration': summary['duration'] / 60,  # convert to minutes\n",
        "        'polyline': route['geometry']\n",
        "    }\n",
        "\n",
        "    return traffic_info\n",
        "\n",
        "def display_traffic_info(start, end):\n",
        "    traffic_info = get_traffic_data(start, end)\n",
        "    if 'error' in traffic_info:\n",
        "        print(\"Error:\", traffic_info['error'])\n",
        "    else:\n",
        "        print(\"Traffic Information:\")\n",
        "        print(f\"Start Address: {traffic_info['start_address']}\")\n",
        "        print(f\"End Address: {traffic_info['end_address']}\")\n",
        "        print(f\"Distance: {traffic_info['distance']} km\")\n",
        "        print(f\"Duration: {traffic_info['duration']} minutes\")\n",
        "        print(\"Polyline:\", traffic_info['polyline'])\n",
        "\n",
        "# Hardcoded start and end locations\n",
        "start = \"New York, NY\"\n",
        "end = \"Los Angeles, CA\"\n",
        "display_traffic_info(start, end)"
      ]
    }
  ]
}