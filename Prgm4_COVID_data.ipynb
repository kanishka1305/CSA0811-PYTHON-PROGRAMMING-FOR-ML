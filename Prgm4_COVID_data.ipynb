{
  "nbformat": 4,
  "nbformat_minor": 0,
  "metadata": {
    "colab": {
      "provenance": [],
      "authorship_tag": "ABX9TyPzeu6c3+VPtQ0E+8d2oLe4",
      "include_colab_link": true
    },
    "kernelspec": {
      "name": "python3",
      "display_name": "Python 3"
    },
    "language_info": {
      "name": "python"
    }
  },
  "cells": [
    {
      "cell_type": "markdown",
      "metadata": {
        "id": "view-in-github",
        "colab_type": "text"
      },
      "source": [
        "<a href=\"https://colab.research.google.com/github/kanishka1305/CSA0811-PYTHON-PROGRAMMING-FOR-ML/blob/main/Prgm4_COVID_data.ipynb\" target=\"_parent\"><img src=\"https://colab.research.google.com/assets/colab-badge.svg\" alt=\"Open In Colab\"/></a>"
      ]
    },
    {
      "cell_type": "code",
      "execution_count": null,
      "metadata": {
        "colab": {
          "base_uri": "https://localhost:8080/"
        },
        "id": "QXpgpDMYpnUR",
        "outputId": "47aef22f-dda5-42ff-f410-e6a03751f1e4"
      },
      "outputs": [
        {
          "output_type": "stream",
          "name": "stdout",
          "text": [
            "COVID-19 Statistics for India:\n",
            "Total Cases: 45035393\n",
            "Total Deaths: 533570\n",
            "Total Recovered: 0\n",
            "Active Cases: 44501823\n",
            "New Cases Today: 0\n",
            "New Deaths Today: 0\n",
            "New Recoveries Today: 0\n"
          ]
        }
      ],
      "source": [
        "\n",
        "\n",
        "import requests\n",
        "\n",
        "def get_covid_stats(region):\n",
        "    base_url = \"https://disease.sh/v3/covid-19\"\n",
        "    if region.lower() == \"world\":\n",
        "        url = f\"{base_url}/all\"\n",
        "    else:\n",
        "        url = f\"{base_url}/countries/{region}\"\n",
        "\n",
        "    response = requests.get(url)\n",
        "\n",
        "    if response.status_code != 200:\n",
        "        print(f\"Error fetching data: {response.status_code}\")\n",
        "        print(response.text)  # Print the response text for debugging\n",
        "        return None\n",
        "\n",
        "    data = response.json()\n",
        "    return data\n",
        "\n",
        "def display_covid_stats(region):\n",
        "    stats = get_covid_stats(region)\n",
        "\n",
        "    if stats is None:\n",
        "        print(\"Failed to retrieve data.\")\n",
        "        return\n",
        "\n",
        "    if 'message' in stats:\n",
        "        print(f\"Error: {stats['message']}\")\n",
        "        return\n",
        "\n",
        "    print(f\"COVID-19 Statistics for {region.capitalize()}:\")\n",
        "    print(f\"Total Cases: {stats.get('cases', 'N/A')}\")\n",
        "    print(f\"Total Deaths: {stats.get('deaths', 'N/A')}\")\n",
        "    print(f\"Total Recovered: {stats.get('recovered', 'N/A')}\")\n",
        "    print(f\"Active Cases: {stats.get('active', 'N/A')}\")\n",
        "    if 'todayCases' in stats:\n",
        "        print(f\"New Cases Today: {stats.get('todayCases', 'N/A')}\")\n",
        "    if 'todayDeaths' in stats:\n",
        "        print(f\"New Deaths Today: {stats.get('todayDeaths', 'N/A')}\")\n",
        "    if 'todayRecovered' in stats:\n",
        "        print(f\"New Recoveries Today: {stats.get('todayRecovered', 'N/A')}\")\n",
        "\n",
        "\n",
        "# Hardcoded region for demonstration purposes\n",
        "region = \"India\"  # Change this to any country name or \"world\" for global stats\n",
        "display_covid_stats(region)"
      ]
    }
  ]
}